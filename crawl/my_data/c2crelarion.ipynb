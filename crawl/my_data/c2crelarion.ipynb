{
 "cells": [
  {
   "cell_type": "code",
   "execution_count": null,
   "metadata": {},
   "outputs": [],
   "source": [
    "# 安装需要的项目和包\n",
    "!git clone https://github.com/huggingface/transformers.git\n",
    "!pip install ./transformers\n",
    "!pip install sentencepiece\n"
   ]
  },
  {
   "cell_type": "code",
   "execution_count": null,
   "metadata": {},
   "outputs": [],
   "source": [
    "# 加载模型\n",
    "# 如果加载ClueAI/PromptCLUE-base-v1-5, 请替换为ClueAI/PromptCLUE-base-v1-5\n",
    "from transformers import T5Tokenizer, T5ForConditionalGeneration\n",
    "tokenizer = T5Tokenizer.from_pretrained(\"ClueAI/PromptCLUE-base\")\n",
    "model = T5ForConditionalGeneration.from_pretrained(\"ClueAI/PromptCLUE-base\")"
   ]
  },
  {
   "cell_type": "code",
   "execution_count": null,
   "metadata": {},
   "outputs": [],
   "source": [
    "# 使用\n",
    "import torch\n",
    "from transformers import AutoTokenizer\n",
    "# 修改colab笔记本设置为gpu，推理更快\n",
    "device = torch.device('cuda')\n",
    "model.to(device)\n",
    "def preprocess(text):\n",
    "  return text.replace(\"\\n\", \"_\")\n",
    "\n",
    "def postprocess(text):\n",
    "  return text.replace(\"_\", \"\\n\")\n",
    "\n",
    "def answer(text, sample=True, top_p=0.6):\n",
    "  '''sample：是否抽样。生成任务，可以设置为True;\n",
    "  top_p：0-1之间，生成的内容越多样'''\n",
    "  text = preprocess(text)\n",
    "  encoding = tokenizer(text=[text], truncation=True, padding=True, max_length=768, return_tensors=\"pt\").to(device)\n",
    "  if not sample:\n",
    "    out = model.generate(**encoding, return_dict_in_generate=True, output_scores=False, max_new_tokens=128, num_beams=4, length_penalty=0.6)\n",
    "  else:\n",
    "    out = model.generate(**encoding, return_dict_in_generate=True, output_scores=False, max_new_tokens=128, do_sample=True, top_p=top_p)\n",
    "  out_text = tokenizer.batch_decode(out[\"sequences\"], skip_special_tokens=True)\n",
    "  return postprocess(out_text[0])\n",
    "print(\"end...\")"
   ]
  },
  {
   "cell_type": "code",
   "execution_count": null,
   "metadata": {},
   "outputs": [],
   "source": [
    "#读取数据\n",
    "from google.colab import drive\n",
    "drive.mount('/content/drive')\n",
    "%cd /content/drive/MyDrive/Colab Notebooks/\n",
    "import json\n",
    "import csv\n",
    "import pandas as pd\n",
    "import re\n",
    "entities = ['character']\n",
    "results = dict()\n",
    "for entity in entities:\n",
    "    file = open({entity}.json, encoding='utf-8')\n",
    "    result = {}\n",
    "    count = 0\n",
    "    for line in file:\n",
    "        line = line.strip()  # 去掉首尾空白字符\n",
    "        if line:\n",
    "            try:\n",
    "                item_dict = json.loads(line)\n",
    "                result[count]=item_dict\n",
    "                count+=1\n",
    "            except json.JSONDecodeError as e:\n",
    "                print(f\"Error decoding JSON: {e} - Line: {line}\")\n",
    "    results[entity]=result\n",
    "\n",
    "\n",
    "headers = ['END_ID', 'type', 'START_ID']\n",
    "with open('character2character.csv', 'w', encoding='utf-8-sig', newline=\"\") as f:\n",
    "    csv_writer = csv.writer(f)\n",
    "    csv_writer.writerow(headers)\n",
    "    input_string=f'''阅读段落，抽取人物关系：{}\n",
    "        选项：亲子，兄弟姐妹，友谊，师徒，竞争，浅交\n",
    "        答案：'''\n",
    "    print(f\"Model output:\\n{answer(input_string)}\")\n",
    "    for chId in results['character'].keys():\n",
    "        startId = '#'+str(chId)\n",
    "        text = results['character'][chId]['全名/本名']\n",
    "        chname = re.sub(r'（.*?）', '', text)\n",
    "        for chname in results['relation']['character']:\n",
    "\n",
    "        for endId in results['character'].keys():\n",
    "            if endId!=chId:\n",
    "                \n",
    "            item = results['character'][endId]['character']\n",
    "            if chname in item:\n",
    "                data = [['m'+str(endId), '需求', startId]]\n",
    "                #print(data)\n",
    "                csv_writer.writerows(data)\n",
    "print('character2material.csv finish!')"
   ]
  }
 ],
 "metadata": {
  "language_info": {
   "name": "python"
  }
 },
 "nbformat": 4,
 "nbformat_minor": 2
}
